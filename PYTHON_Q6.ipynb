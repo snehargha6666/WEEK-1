{
  "nbformat": 4,
  "nbformat_minor": 0,
  "metadata": {
    "colab": {
      "provenance": [],
      "authorship_tag": "ABX9TyPDtQuCUXTjZJTthQfrWDgU",
      "include_colab_link": true
    },
    "kernelspec": {
      "name": "python3",
      "display_name": "Python 3"
    },
    "language_info": {
      "name": "python"
    }
  },
  "cells": [
    {
      "cell_type": "markdown",
      "metadata": {
        "id": "view-in-github",
        "colab_type": "text"
      },
      "source": [
        "<a href=\"https://colab.research.google.com/github/snehargha6666/WEEK-1/blob/main/PYTHON_Q6.ipynb\" target=\"_parent\"><img src=\"https://colab.research.google.com/assets/colab-badge.svg\" alt=\"Open In Colab\"/></a>"
      ]
    },
    {
      "cell_type": "code",
      "execution_count": 5,
      "metadata": {
        "colab": {
          "base_uri": "https://localhost:8080/"
        },
        "id": "Oh0rp8Ju8si9",
        "outputId": "58c05f38-b9ef-474c-e943-bf2a92a41c89"
      },
      "outputs": [
        {
          "output_type": "stream",
          "name": "stdout",
          "text": [
            "True\n"
          ]
        }
      ],
      "source": [
        "arr = [1, 2, 3, 4, 5]\n",
        "is_sorted = all(arr[i] <= arr[i+1] for i in range(len(arr)-1))\n",
        "print(is_sorted)\n"
      ]
    },
    {
      "cell_type": "code",
      "source": [
        "arr = [5, 4, 3, 2, 1]\n",
        "is_sorted = all(arr[i] >= arr[i+1] for i in range(len(arr)-1))\n",
        "print(is_sorted)\n"
      ],
      "metadata": {
        "colab": {
          "base_uri": "https://localhost:8080/"
        },
        "id": "8ziftlSUs77j",
        "outputId": "b2a4da67-7cf7-484f-f2c2-739b3c6c5dfc"
      },
      "execution_count": 6,
      "outputs": [
        {
          "output_type": "stream",
          "name": "stdout",
          "text": [
            "True\n"
          ]
        }
      ]
    }
  ]
}