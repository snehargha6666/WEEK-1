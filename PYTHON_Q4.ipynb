{
  "nbformat": 4,
  "nbformat_minor": 0,
  "metadata": {
    "colab": {
      "provenance": [],
      "authorship_tag": "ABX9TyMhioZQnEnn5R+wcN3CExYi",
      "include_colab_link": true
    },
    "kernelspec": {
      "name": "python3",
      "display_name": "Python 3"
    },
    "language_info": {
      "name": "python"
    }
  },
  "cells": [
    {
      "cell_type": "markdown",
      "metadata": {
        "id": "view-in-github",
        "colab_type": "text"
      },
      "source": [
        "<a href=\"https://colab.research.google.com/github/snehargha6666/WEEK-1/blob/main/PYTHON_Q4.ipynb\" target=\"_parent\"><img src=\"https://colab.research.google.com/assets/colab-badge.svg\" alt=\"Open In Colab\"/></a>"
      ]
    },
    {
      "cell_type": "code",
      "execution_count": 3,
      "metadata": {
        "colab": {
          "base_uri": "https://localhost:8080/"
        },
        "id": "Oh0rp8Ju8si9",
        "outputId": "ba00db4e-f0d0-4c57-c22b-b21eb0b77281"
      },
      "outputs": [
        {
          "output_type": "stream",
          "name": "stdout",
          "text": [
            "[1, 3, 12, 0, 0]\n"
          ]
        }
      ],
      "source": [
        "arr = [0, 1, 0, 3, 12]\n",
        "n = len(arr)\n",
        "index = 0\n",
        "for i in range(n):\n",
        "    if arr[i] != 0:\n",
        "        arr[index] = arr[i]\n",
        "        index += 1\n",
        "for i in range(index, n):\n",
        "    arr[i] = 0\n",
        "print(arr)\n"
      ]
    }
  ]
}