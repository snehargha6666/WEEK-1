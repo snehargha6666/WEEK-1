{
  "nbformat": 4,
  "nbformat_minor": 0,
  "metadata": {
    "colab": {
      "provenance": [],
      "authorship_tag": "ABX9TyNWBe7KlkoXI/1aRff8KU6t",
      "include_colab_link": true
    },
    "kernelspec": {
      "name": "python3",
      "display_name": "Python 3"
    },
    "language_info": {
      "name": "python"
    }
  },
  "cells": [
    {
      "cell_type": "markdown",
      "metadata": {
        "id": "view-in-github",
        "colab_type": "text"
      },
      "source": [
        "<a href=\"https://colab.research.google.com/github/snehargha6666/WEEK-1/blob/main/PYTHON_Q5.ipynb\" target=\"_parent\"><img src=\"https://colab.research.google.com/assets/colab-badge.svg\" alt=\"Open In Colab\"/></a>"
      ]
    },
    {
      "cell_type": "code",
      "execution_count": 4,
      "metadata": {
        "colab": {
          "base_uri": "https://localhost:8080/"
        },
        "id": "Oh0rp8Ju8si9",
        "outputId": "7d883616-b8b5-4a37-c92b-8270f2511f31"
      },
      "outputs": [
        {
          "output_type": "stream",
          "name": "stdout",
          "text": [
            "[5, 1, 2, 3, 4]\n"
          ]
        }
      ],
      "source": [
        "arr = [1, 2, 3, 4, 5]\n",
        "arr = [arr[-1]] + arr[:-1]\n",
        "print(arr)\n"
      ]
    }
  ]
}